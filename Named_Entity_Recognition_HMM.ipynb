{
  "cells": [
    {
      "cell_type": "markdown",
      "metadata": {
        "id": "view-in-github",
        "colab_type": "text"
      },
      "source": [
        "<a href=\"https://colab.research.google.com/github/JumanaWanass/NER-using-HMM-and-MEMM/blob/main/Named_Entity_Recognition_HMM.ipynb\" target=\"_parent\"><img src=\"https://colab.research.google.com/assets/colab-badge.svg\" alt=\"Open In Colab\"/></a>"
      ]
    },
    {
      "cell_type": "markdown",
      "metadata": {
        "id": "fEyk2ch1GYi0"
      },
      "source": [
        "### Data preprocessing\n",
        "\n",
        "In this section we will write code to load data and build the dataset for Named Entity Recognition."
      ]
    },
    {
      "cell_type": "code",
      "execution_count": null,
      "metadata": {
        "id": "X_hx0PKdII9C",
        "vscode": {
          "languageId": "python"
        }
      },
      "outputs": [],
      "source": [
        "import os\n",
        "import re\n",
        "import codecs"
      ]
    },
    {
      "cell_type": "markdown",
      "metadata": {
        "id": "wmssMqR2IKkC"
      },
      "source": [
        "Write a function to load sentences."
      ]
    },
    {
      "cell_type": "code",
      "execution_count": null,
      "metadata": {
        "id": "q4MKd94oHDKr",
        "vscode": {
          "languageId": "python"
        }
      },
      "outputs": [],
      "source": [
        "def zero_digits(s):\n",
        "    \"\"\"\n",
        "    Replace all digits in a string with zeros.\n",
        "    \"\"\"\n",
        "    return re.sub('\\d', '0', s)\n",
        "\n",
        "def load_sentences(path):\n",
        "    \"\"\"\n",
        "    Load sentences. A line must contain at least a word and its tag.\n",
        "    Sentences are separated by empty lines.\n",
        "    \"\"\"\n",
        "    sentences = []\n",
        "    sentence = []\n",
        "    for line in codecs.open(path, 'r', 'utf8'):\n",
        "        line = zero_digits(line.rstrip())\n",
        "        if not line:\n",
        "            if len(sentence) > 0:\n",
        "                if 'DOCSTART' not in sentence[0][0]:\n",
        "                    sentences.append(sentence)\n",
        "                sentence = []\n",
        "        else:\n",
        "            word = line.split()\n",
        "            assert len(word) >= 2\n",
        "            sentence.append(word)\n",
        "    if len(sentence) > 0:\n",
        "        if 'DOCSTART' not in sentence[0][0]:\n",
        "            sentences.append(sentence)\n",
        "    print(sentences[0])\n",
        "    return sentences"
      ]
    },
    {
      "cell_type": "markdown",
      "metadata": {
        "id": "2W76Clg4J2wo"
      },
      "source": [
        "Prepare the training/test data using the loaded sentences."
      ]
    },
    {
      "cell_type": "code",
      "execution_count": null,
      "metadata": {
        "id": "1yS9JsVSMZ6l",
        "vscode": {
          "languageId": "python"
        }
      },
      "outputs": [],
      "source": [
        "def create_dico(item_list):\n",
        "    \"\"\"\n",
        "    Create a dictionary of items from a list of list of items.\n",
        "    \"\"\"\n",
        "    assert type(item_list) is list\n",
        "    dico = {}\n",
        "    for items in item_list:\n",
        "        for item in items:\n",
        "            if item not in dico:\n",
        "                dico[item] = 1\n",
        "            else:\n",
        "                dico[item] += 1\n",
        "    return dico"
      ]
    },
    {
      "cell_type": "code",
      "execution_count": null,
      "metadata": {
        "id": "D_7t9tVCMdFY",
        "vscode": {
          "languageId": "python"
        }
      },
      "outputs": [],
      "source": [
        "def create_mapping(dico):\n",
        "    \"\"\"\n",
        "    Create a mapping (item to ID / ID to item) from a dictionary.\n",
        "    Items are ordered by decreasing frequency.\n",
        "    \"\"\"\n",
        "    sorted_items = sorted(dico.items(), key=lambda x: (-x[1], x[0]))\n",
        "    id_to_item = {i: v[0] for i, v in enumerate(sorted_items) if v[1] > 2}\n",
        "    item_to_id = {v: k for k, v in id_to_item.items()}\n",
        "    return item_to_id, id_to_item\n",
        "\n",
        "def word_mapping(sentences):\n",
        "    \"\"\"\n",
        "    Create a dictionary and a mapping of words, sorted by frequency.\n",
        "    \"\"\"\n",
        "    words = [[x[0] for x in s] for s in sentences]\n",
        "    dico = create_dico(words)\n",
        "    dico['<UNK>'] = 10000000\n",
        "    word_to_id, id_to_word = create_mapping(dico)\n",
        "    print(\"Found %i unique words (%i in total)\" % (\n",
        "        len(dico), sum(len(x) for x in words))\n",
        "    )\n",
        "    return dico, word_to_id, id_to_word\n",
        "\n",
        "def tag_mapping(sentences):\n",
        "    \"\"\"\n",
        "    Create a dictionary and a mapping of tags, sorted by frequency.\n",
        "    \"\"\"\n",
        "    tags = [[word[-1] for word in s] for s in sentences]\n",
        "    dico = create_dico(tags)\n",
        "    tag_to_id, id_to_tag = create_mapping(dico)\n",
        "    print(\"Found %i unique named entity tags\" % len(dico))\n",
        "    return dico, tag_to_id, id_to_tag"
      ]
    },
    {
      "cell_type": "code",
      "execution_count": null,
      "metadata": {
        "id": "lNS57L87IQdT",
        "vscode": {
          "languageId": "python"
        }
      },
      "outputs": [],
      "source": [
        "def prepare_dataset(sentences, mode=None, word_to_id=None, tag_to_id=None):\n",
        "    \"\"\"\n",
        "    Prepare the dataset. Return 'data', which is a list of lists of dictionaries containing:\n",
        "        - words (strings)\n",
        "        - word indexes\n",
        "        - tag indexes\n",
        "    \"\"\"\n",
        "    assert mode == 'train' or (mode == 'test' and word_to_id and tag_to_id)\n",
        "\n",
        "    if mode=='train':\n",
        "        word_dic, word_to_id, id_to_word = word_mapping(sentences)\n",
        "        tag_dic, tag_to_id, id_to_tag = tag_mapping(sentences)\n",
        "\n",
        "    def f(x): return x\n",
        "    data = []\n",
        "    for s in sentences:\n",
        "        str_words = [w[0] for w in s]\n",
        "        words = [word_to_id[f(w) if f(w) in word_to_id else '<UNK>']\n",
        "                 for w in str_words]\n",
        "        tags = [tag_to_id[w[-1]] for w in s]\n",
        "        data.append({\n",
        "            'str_words': str_words,\n",
        "            'words': words,\n",
        "            'tags': tags,\n",
        "        })\n",
        "\n",
        "    if mode == 'train':\n",
        "        return data, {'word_to_id':word_to_id, 'id_to_word':id_to_word, 'tag_to_id':tag_to_id, 'id_to_tag':id_to_tag}\n",
        "    else:\n",
        "        return data"
      ]
    },
    {
      "cell_type": "markdown",
      "metadata": {
        "id": "LgikvX-qKTL7"
      },
      "source": [
        "### Hidden Markov Model\n",
        "In this section, we will implement a bigram hidden markov model (HMM) that could perform two types of decoding: greedy decoding and viterbi decoding.\n"
      ]
    },
    {
      "cell_type": "code",
      "execution_count": null,
      "metadata": {
        "id": "te89fFIgLdFf",
        "vscode": {
          "languageId": "python"
        }
      },
      "outputs": [],
      "source": [
        "import os\n",
        "import re\n",
        "import numpy as np\n",
        "from sklearn import linear_model\n",
        "from sklearn.preprocessing import OneHotEncoder\n",
        "from scipy import sparse\n",
        "import collections\n",
        "import codecs"
      ]
    },
    {
      "cell_type": "markdown",
      "source": [],
      "metadata": {
        "id": "JEru3cpwET9U"
      }
    },
    {
      "cell_type": "code",
      "execution_count": null,
      "metadata": {
        "id": "QCiZJCYKMln5",
        "vscode": {
          "languageId": "python"
        }
      },
      "outputs": [],
      "source": [
        "class HMM(object):\n",
        "    \"\"\"\n",
        "     HMM Model\n",
        "    \"\"\"\n",
        "    def __init__(self, dic, decode_type):\n",
        "        \"\"\"\n",
        "        Initialize the model.\n",
        "        \"\"\"\n",
        "\n",
        "        self.num_words = len(dic['word_to_id'])\n",
        "        self.num_tags = len(dic['tag_to_id'])\n",
        "\n",
        "        self.initial_prob = np.ones([self.num_tags])\n",
        "        self.transition_prob = np.ones([self.num_tags, self.num_tags])\n",
        "        self.emission_prob = np.ones([self.num_tags, self.num_words])\n",
        "        self.decode_type = decode_type\n",
        "\n",
        "        return\n",
        "\n",
        "    def train(self, corpus):\n",
        "        \"\"\"\n",
        "        TODO: Train a bigram HMM model using MLE estimates.\n",
        "        Complete the code to compute self,initial_prob, self.transition_prob and self.emission_prob appropriately.\n",
        "\n",
        "        Args:\n",
        "            corpus is a list of dictionaries of the form:\n",
        "            {'str_words': str_words,   ### List of string words\n",
        "            'words': words,            ### List of word IDs\n",
        "            'tags': tags}              ### List of tag IDs\n",
        "            All three lists above have length equal to the sentence length for each instance.\n",
        "\n",
        "        \"\"\"\n",
        "\n",
        "        # Step 1: Compute initial_probs.\n",
        "        # initial_prob[x]: the probability of tag x to be assigned to the first token in a sentence.\n",
        "        self.initial_prob = np.zeros([self.num_tags])\n",
        "        for sentence in corpus:\n",
        "            # TODO: update self.initial_prob\n",
        "            # (5 points)\n",
        "            # START HERE\n",
        "            # increments the count of the tag that appears as the first tag in a sentence by 1\n",
        "            self.initial_prob[sentence['tags'][0]] += 1\n",
        "\n",
        "            # END HERE\n",
        "\n",
        "        # Normarlize initial_prob to sum to 1\n",
        "        self.initial_prob /= np.sum(self.initial_prob)\n",
        "\n",
        "        # Step 2: Complete the code to compute transition_prob.\n",
        "        # transition_prob[x][y]: the probability of tag y to appear after tag x.\n",
        "        self.transition_prob = np.zeros([self.num_tags, self.num_tags])\n",
        "        for sentence in corpus:\n",
        "            tag = sentence['tags']\n",
        "            for i in range(1, len(tag)):\n",
        "                # TODO: update self.transition_prob\n",
        "                # (5 points)\n",
        "                # START HERE\n",
        "                # increments the count of transitions from one tag to another\n",
        "                self.transition_prob[tag[i - 1]][tag[i]] += 1\n",
        "                # END HERE\n",
        "\n",
        "        # Normalize every row of transition_prob to sum to 1.\n",
        "        for p in self.transition_prob:\n",
        "            p /= np.sum(p)\n",
        "\n",
        "\n",
        "        # Step 3: Complete the code to compute emission_prob\n",
        "        # emission_prob[x][y]: the probability of word y to appear given tag x.\n",
        "        # Note that for each sentence s in the corpus, word IDs are in s['words'].\n",
        "        self.emission_prob = np.zeros([self.num_tags, self.num_words])\n",
        "        for sentence in corpus:\n",
        "            tag = sentence['tags']\n",
        "            for i in range(len(sentence['tags'])):\n",
        "                # TODO: update self.emission_prob\n",
        "                # (5 points)\n",
        "                # START HERE\n",
        "                # increments the count of emissions from a tag to a word.\n",
        "                self.emission_prob[tag[i]][sentence['words'][i]] += 1\n",
        "                # END HERE\n",
        "\n",
        "        # For every tag, normalize the emission_prob to sum to 1.\n",
        "        for p in self.emission_prob:\n",
        "            p /= np.sum(p)\n",
        "\n",
        "        return\n",
        "\n",
        "    def greedy_decode(self, sentence):\n",
        "        \"\"\"\n",
        "        Decode a single sentence in Greedy fashion\n",
        "        Return a list of tags.\n",
        "        \"\"\"\n",
        "    #    the model chooses the tag with the highest emission probability for that word.\n",
        "        tags = []\n",
        "\n",
        "        init_scores = [self.initial_prob[t] * self.emission_prob[t][sentence[0]] for t in range(self.num_tags)]\n",
        "        tags.append(np.argmax(init_scores))\n",
        "\n",
        "        for w in sentence[1:]:\n",
        "            scores = [self.transition_prob[tags[-1]][t] * self.emission_prob[t][w] for t in range(self.num_tags)]\n",
        "            tags.append(np.argmax(scores))\n",
        "\n",
        "        assert len(tags) == len(sentence)\n",
        "        return tags\n",
        "\n",
        "    # n * k^c (where c depends on the n gram)\n",
        "    def viterbi_decode(self, sentence):\n",
        "        \"\"\"\n",
        "        TODO: Complete the code to decode a single sentence using the Viterbi algorithm.\n",
        "        Args:\n",
        "             sentence -- a list of ints that represents word IDs.\n",
        "        Output:\n",
        "             tags     -- a list of ints that represents the tags decoded from the input.\n",
        "        \"\"\"\n",
        "        tags = []\n",
        "        l = len(sentence)\n",
        "\n",
        "        pi = self.initial_prob\n",
        "        A = self.transition_prob\n",
        "        O = self.emission_prob\n",
        "\n",
        "        # Let M be the state matrix.\n",
        "        # M[i,j]: most probable sequence of tags ending with tag j at the i-th token.\n",
        "        M = np.zeros((l, self.num_tags))\n",
        "        M[:,:] = float('-inf')\n",
        "\n",
        "        # Use B to track the path to reach the most probable sequence.\n",
        "        # B[i,j] is the tag of the (i-1)-th token in the most probable sequence ending with tag j at the i-th token.\n",
        "        B = np.zeros((l, self.num_tags), 'int')\n",
        "\n",
        "        # Compute the probability to assign each tag to the first token.\n",
        "        M[0, :] = pi * O[:, sentence[0]]\n",
        "\n",
        "        # Dynamic programming.\n",
        "        for i in range(1, l):\n",
        "            for j in range(self.num_tags):\n",
        "                # TODO: Compute M[i, j] and B[i, j].\n",
        "                # (10 points)\n",
        "                # START HERE\n",
        "                M[i, j] = np.max(M[i - 1, :] * A[:, j]) * O[j, sentence[i]]\n",
        "                B[i, j] = np.argmax(M[i - 1, :] * A[:, j])\n",
        "                # END HERE\n",
        "\n",
        "        # Extract the optimal sequence of tags from B.\n",
        "        # Start from the last position, and iteratively find the tag of each position that results in the most probable tag sequence.\n",
        "        tags.append(np.argmax(M[l-1,:]))\n",
        "        for i in range(l-1, 0, -1):\n",
        "            # TODO: Extract the tag of the (i-1)-th token that results in the most probable sequence of tags.\n",
        "            # (5 points)\n",
        "            # START HERE\n",
        "            tags.append(B[i, tags[-1]])\n",
        "            # END HERE\n",
        "\n",
        "        return tags\n",
        "\n",
        "    def tag(self, sentence):\n",
        "        \"\"\"\n",
        "        Tag a sentence using a trained HMM.\n",
        "        \"\"\"\n",
        "        if self.decode_type == 'viterbi':\n",
        "            return self.viterbi_decode(sentence)\n",
        "        elif self.decode_type == 'greedy':\n",
        "            return self.greedy_decode(sentence)\n",
        "        else:\n",
        "            raise ValueError(\"Unknown decoding type\")"
      ]
    },
    {
      "cell_type": "markdown",
      "metadata": {
        "id": "T6P0Qs5JM0x3"
      },
      "source": [
        "### Train and evaluate HMMs.\n",
        "This section contains driver code for learning a HMM for named entity recognition on a training corpus and evaluating it on a test corpus."
      ]
    },
    {
      "cell_type": "code",
      "execution_count": null,
      "metadata": {
        "id": "DJRRLA2jOsl1",
        "vscode": {
          "languageId": "python"
        }
      },
      "outputs": [],
      "source": [
        "import os\n",
        "import time\n",
        "import codecs\n",
        "import json\n",
        "from tqdm import tqdm\n",
        "import numpy as np\n",
        "import collections\n",
        "from sklearn.metrics import f1_score, confusion_matrix"
      ]
    },
    {
      "cell_type": "markdown",
      "metadata": {
        "id": "Vk2KF59LOzSr"
      },
      "source": [
        "Write a function to tag the test corpus with a trained model."
      ]
    },
    {
      "cell_type": "code",
      "execution_count": null,
      "metadata": {
        "id": "ldGSAHWSOwt1",
        "vscode": {
          "languageId": "python"
        }
      },
      "outputs": [],
      "source": [
        "def tag_corpus(model, test_corpus, output_file, dic):\n",
        "    if output_file:\n",
        "        f_output = codecs.open(output_file, 'w', 'utf-8')\n",
        "    start = time.time()\n",
        "\n",
        "    num_correct = 0.\n",
        "    num_total = 0.\n",
        "    y_pred=[]\n",
        "    y_actual=[]\n",
        "    print('Tagging...')\n",
        "    for i, sentence in enumerate(tqdm(test_corpus)):\n",
        "        tags = model.tag(sentence['words'])\n",
        "        str_tags = [dic['id_to_tag'][t] for t in tags]\n",
        "        y_pred.extend(tags)\n",
        "        y_actual.extend(sentence['tags'])\n",
        "\n",
        "        # Check accuracy.\n",
        "        num_correct += np.sum(np.array(tags) == np.array(sentence['tags']))\n",
        "        num_total += len([w for w in sentence['words']])\n",
        "\n",
        "        if output_file:\n",
        "            f_output.write('%s\\n' % ' '.join('%s%s%s' % (w, '__', y)\n",
        "                                             for w, y in zip(sentence['str_words'], str_tags)))\n",
        "\n",
        "    print('---- %i lines tagged in %.4fs ----' % (len(test_corpus), time.time() - start))\n",
        "    if output_file:\n",
        "        f_output.close()\n",
        "\n",
        "    print(\"Overall accuracy: %s\\n\" % (num_correct/num_total))\n",
        "    return y_pred,y_actual"
      ]
    },
    {
      "cell_type": "markdown",
      "metadata": {
        "id": "zhAjb7OuPEgT"
      },
      "source": [
        "Write a function a compute the confusion matrix and the F-1 score."
      ]
    },
    {
      "cell_type": "code",
      "execution_count": null,
      "metadata": {
        "id": "KC_VhUG0O98M",
        "vscode": {
          "languageId": "python"
        }
      },
      "outputs": [],
      "source": [
        "def compute_score(y_pred,y_actual):\n",
        "    A = confusion_matrix(y_actual, y_pred)\n",
        "    f1 = f1_score(y_actual, y_pred,average=None)\n",
        "    print(\"Confusion Matrix:\\n\", A)\n",
        "    print(\"F-1 scores: \", f1)"
      ]
    },
    {
      "cell_type": "markdown",
      "metadata": {
        "id": "sLFBiD4BPMl1"
      },
      "source": [
        "Write a function to train and evalute the model."
      ]
    },
    {
      "cell_type": "code",
      "execution_count": null,
      "metadata": {
        "id": "RFcYYThhPRbh",
        "vscode": {
          "languageId": "python"
        }
      },
      "outputs": [],
      "source": [
        "def runHiddenMarkovModel(train_corpus,\n",
        "                         test_corpus,\n",
        "                         dic,\n",
        "                         decode_type,\n",
        "                         output_file):\n",
        "    # build and train the model\n",
        "    model = HMM(dic, decode_type)\n",
        "    model.train(train_corpus)\n",
        "\n",
        "    print(\"Train results:\")\n",
        "    pred, real = tag_corpus(model, train_corpus, output_file, dic)\n",
        "\n",
        "    print(\"Tags: \", dic['id_to_tag'])\n",
        "    A = compute_score(pred,real)\n",
        "\n",
        "    # test on validation\n",
        "    print(\"\\n-----------\\nTest results:\")\n",
        "    pred, real = tag_corpus(model, test_corpus, output_file, dic)\n",
        "\n",
        "    print(\"Tags: \", dic['id_to_tag'])\n",
        "    A = compute_score(pred,real)"
      ]
    },
    {
      "cell_type": "markdown",
      "metadata": {
        "id": "-vRsc-YrRAb2"
      },
      "source": [
        "### Experiments"
      ]
    },
    {
      "cell_type": "markdown",
      "metadata": {
        "id": "McZ9KpeQRlA9"
      },
      "source": [
        "#### Load data"
      ]
    },
    {
      "cell_type": "code",
      "execution_count": null,
      "metadata": {
        "id": "mjVwUkR9Rq53",
        "vscode": {
          "languageId": "python"
        },
        "colab": {
          "base_uri": "https://localhost:8080/"
        },
        "outputId": "e5aacbbe-db51-4242-84a6-f18699ffe584"
      },
      "outputs": [
        {
          "output_type": "stream",
          "name": "stdout",
          "text": [
            "--2024-03-24 21:43:45--  https://princeton-nlp.github.io/cos484/assignments/a2/eng.train\n",
            "Resolving princeton-nlp.github.io (princeton-nlp.github.io)... 185.199.108.153, 185.199.109.153, 185.199.110.153, ...\n",
            "Connecting to princeton-nlp.github.io (princeton-nlp.github.io)|185.199.108.153|:443... connected.\n",
            "HTTP request sent, awaiting response... 200 OK\n",
            "Length: 3213441 (3.1M) [application/octet-stream]\n",
            "Saving to: ‘eng.train’\n",
            "\n",
            "\reng.train             0%[                    ]       0  --.-KB/s               \reng.train           100%[===================>]   3.06M  --.-KB/s    in 0.04s   \n",
            "\n",
            "2024-03-24 21:43:45 (72.1 MB/s) - ‘eng.train’ saved [3213441/3213441]\n",
            "\n",
            "--2024-03-24 21:43:45--  https://princeton-nlp.github.io/cos484/assignments/a2/eng.val\n",
            "Resolving princeton-nlp.github.io (princeton-nlp.github.io)... 185.199.108.153, 185.199.109.153, 185.199.110.153, ...\n",
            "Connecting to princeton-nlp.github.io (princeton-nlp.github.io)|185.199.108.153|:443... connected.\n",
            "HTTP request sent, awaiting response... 200 OK\n",
            "Length: 774436 (756K) [application/octet-stream]\n",
            "Saving to: ‘eng.val’\n",
            "\n",
            "eng.val             100%[===================>] 756.29K  --.-KB/s    in 0.03s   \n",
            "\n",
            "2024-03-24 21:43:46 (21.4 MB/s) - ‘eng.val’ saved [774436/774436]\n",
            "\n",
            "[['EU', 'NNP', 'I-NP', 'ORG'], ['rejects', 'VBZ', 'I-VP', 'O'], ['German', 'JJ', 'I-NP', 'MISC'], ['call', 'NN', 'I-NP', 'O'], ['to', 'TO', 'I-VP', 'O'], ['boycott', 'VB', 'I-VP', 'O'], ['British', 'JJ', 'I-NP', 'MISC'], ['lamb', 'NN', 'I-NP', 'O'], ['.', '.', 'O', 'O']]\n",
            "Found 20101 unique words (203621 in total)\n",
            "Found 5 unique named entity tags\n",
            "[['CRICKET', 'NNP', 'I-NP', 'O'], ['-', ':', 'O', 'O'], ['LEICESTERSHIRE', 'NNP', 'I-NP', 'ORG'], ['TAKE', 'NNP', 'I-NP', 'O'], ['OVER', 'IN', 'I-PP', 'O'], ['AT', 'NNP', 'I-NP', 'O'], ['TOP', 'NNP', 'I-NP', 'O'], ['AFTER', 'NNP', 'I-NP', 'O'], ['INNINGS', 'NNP', 'I-NP', 'O'], ['VICTORY', 'NN', 'I-NP', 'O'], ['.', '.', 'O', 'O']]\n"
          ]
        }
      ],
      "source": [
        "# Download the dataset\n",
        "!wget https://princeton-nlp.github.io/cos484/assignments/a2/eng.train\n",
        "!wget https://princeton-nlp.github.io/cos484/assignments/a2/eng.val\n",
        "\n",
        "train_file = 'eng.train'\n",
        "test_file = 'eng.val'\n",
        "\n",
        "# Load the training data\n",
        "train_sentences = load_sentences(train_file)\n",
        "train_corpus, dic = prepare_dataset(train_sentences, mode='train', word_to_id=None, tag_to_id=None)\n",
        "\n",
        "# Load the testing data\n",
        "test_sentences = load_sentences(test_file)\n",
        "test_corpus = prepare_dataset(test_sentences, mode='test', word_to_id=dic['word_to_id'], tag_to_id=dic['tag_to_id'])"
      ]
    },
    {
      "cell_type": "markdown",
      "metadata": {
        "id": "HzNnUiBZS4ME"
      },
      "source": [
        "#### Experiment with an HMM with greedy decoding for Problem 2(a)"
      ]
    },
    {
      "cell_type": "code",
      "execution_count": null,
      "metadata": {
        "id": "h0t7W9JMTfLl",
        "vscode": {
          "languageId": "python"
        },
        "outputId": "742e640d-fe88-48fe-eec1-d55a7bdd4e14",
        "colab": {
          "base_uri": "https://localhost:8080/"
        }
      },
      "outputs": [
        {
          "output_type": "stream",
          "name": "stdout",
          "text": [
            "Train results:\n",
            "Tagging...\n"
          ]
        },
        {
          "output_type": "stream",
          "name": "stderr",
          "text": [
            "100%|██████████| 14041/14041 [00:02<00:00, 4825.58it/s]\n"
          ]
        },
        {
          "output_type": "stream",
          "name": "stdout",
          "text": [
            "---- 14041 lines tagged in 2.9169s ----\n",
            "Overall accuracy: 0.9544742438157164\n",
            "\n",
            "Tags:  {0: 'O', 1: 'PER', 2: 'ORG', 3: 'LOC', 4: 'MISC'}\n",
            "Confusion Matrix:\n",
            " [[168060    135   1233     48    102]\n",
            " [  1999   8628    456     39      6]\n",
            " [  1632     98   7291    731    273]\n",
            " [   741     49    567   6886     54]\n",
            " [   665     32    206    204   3486]]\n",
            "F-1 scores:  [0.98087109 0.85979073 0.73728385 0.84986115 0.81888654]\n",
            "\n",
            "-----------\n",
            "Test results:\n",
            "Tagging...\n"
          ]
        },
        {
          "output_type": "stream",
          "name": "stderr",
          "text": [
            "100%|██████████| 3490/3490 [00:00<00:00, 3753.10it/s]\n"
          ]
        },
        {
          "output_type": "stream",
          "name": "stdout",
          "text": [
            "---- 3490 lines tagged in 0.9399s ----\n",
            "Overall accuracy: 0.9241331540561464\n",
            "\n",
            "Tags:  {0: 'O', 1: 'PER', 2: 'ORG', 3: 'LOC', 4: 'MISC'}\n",
            "Confusion Matrix:\n",
            " [[40558    17   543    17    29]\n",
            " [ 1105  1294   267    16     8]\n",
            " [  606    30  1382   176    56]\n",
            " [  249    15   215  1478    18]\n",
            " [  233     8    79    37   650]]\n",
            "F-1 scores:  [0.96664482 0.63838185 0.58361486 0.7991349  0.73529412]\n"
          ]
        }
      ],
      "source": [
        "runHiddenMarkovModel(\n",
        "    train_corpus = train_corpus,\n",
        "    test_corpus = test_corpus,\n",
        "    dic = dic,\n",
        "    decode_type = 'greedy',\n",
        "    output_file = None\n",
        ")"
      ]
    },
    {
      "cell_type": "markdown",
      "metadata": {
        "id": "bP4iMShYX3Xp"
      },
      "source": [
        "#### Experiment with an HMM with viterbi decoding for Problem 2(b)"
      ]
    },
    {
      "cell_type": "code",
      "execution_count": null,
      "metadata": {
        "id": "_zBEh-TpX8KC",
        "vscode": {
          "languageId": "python"
        },
        "outputId": "0a826ebf-db1b-4a01-c1db-bd11f4aa4fdb",
        "colab": {
          "base_uri": "https://localhost:8080/"
        }
      },
      "outputs": [
        {
          "output_type": "stream",
          "name": "stdout",
          "text": [
            "Train results:\n",
            "Tagging...\n"
          ]
        },
        {
          "output_type": "stream",
          "name": "stderr",
          "text": [
            "100%|██████████| 14041/14041 [00:11<00:00, 1260.27it/s]\n"
          ]
        },
        {
          "output_type": "stream",
          "name": "stdout",
          "text": [
            "---- 14041 lines tagged in 11.1519s ----\n",
            "Overall accuracy: 0.7389807534586315\n",
            "\n",
            "Tags:  {0: 'O', 1: 'PER', 2: 'ORG', 3: 'LOC', 4: 'MISC'}\n",
            "Confusion Matrix:\n",
            " [[146237   7558   7024   5561   3198]\n",
            " [  8217   1638    333    792    148]\n",
            " [  8024    400   1309    222     70]\n",
            " [  6460    662    297    741    137]\n",
            " [  3693    134     78    141    547]]\n",
            "F-1 scores:  [0.85466484 0.15223048 0.13731249 0.09407135 0.12584838]\n",
            "\n",
            "-----------\n",
            "Test results:\n",
            "Tagging...\n"
          ]
        },
        {
          "output_type": "stream",
          "name": "stderr",
          "text": [
            "100%|██████████| 3490/3490 [00:02<00:00, 1257.05it/s]\n"
          ]
        },
        {
          "output_type": "stream",
          "name": "stdout",
          "text": [
            "---- 3490 lines tagged in 2.7853s ----\n",
            "Overall accuracy: 0.7565701014545899\n",
            "\n",
            "Tags:  {0: 'O', 1: 'PER', 2: 'ORG', 3: 'LOC', 4: 'MISC'}\n",
            "Confusion Matrix:\n",
            " [[36440  1516  1421  1134   653]\n",
            " [ 2020   267    46   333    24]\n",
            " [ 1917    62   212    45    14]\n",
            " [ 1587   189    48   123    28]\n",
            " [  822    31    22    37    95]]\n",
            "F-1 scores:  [0.8681358  0.11230284 0.10602651 0.0674527  0.10433828]\n"
          ]
        }
      ],
      "source": [
        "runHiddenMarkovModel(\n",
        "    train_corpus = train_corpus,\n",
        "    test_corpus = test_corpus,\n",
        "    dic = dic,\n",
        "    decode_type = 'viterbi',\n",
        "    output_file = None\n",
        ")"
      ]
    },
    {
      "cell_type": "markdown",
      "source": [
        "Greedy Decoding and Viterbi Decoding are two common approaches used in Hidden Markov Models (HMMs) for sequence labeling tasks like Part-of-Speech (POS) tagging or Named Entity Recognition (NER).\n",
        "\n",
        "1. **Greedy Decoding**:\n",
        "   - In greedy decoding, at each step of the sequence, the model makes a locally optimal decision without considering the global context or future possibilities.\n",
        "   - In the context of an HMM for sequence labeling, greedy decoding selects the tag with the highest probability at each time step, assuming that the locally optimal choice will lead to a globally optimal sequence.\n",
        "   - For example, in POS tagging, at each word position, the model chooses the tag with the highest emission probability for that word.\n",
        "   - Greedy decoding is computationally efficient and easy to implement. However, it may not always produce the most accurate results, especially if the locally optimal choices do not lead to the globally optimal sequence.\n",
        "\n",
        "2. **Viterbi Decoding**:\n",
        "   - Viterbi decoding is an algorithm used to find the most likely sequence of hidden states (tags) in a sequence given an observation sequence (words).\n",
        "   - It is based on dynamic programming and calculates the most likely sequence of hidden states by considering all possible state sequences, rather than making greedy decisions.\n",
        "   - Viterbi decoding takes into account both the transition probabilities between states (tags) and the emission probabilities of observed symbols (words).\n",
        "   - This algorithm efficiently finds the optimal sequence of tags by recursively calculating the maximum probability of reaching each state (tag) at each time step, considering the probabilities of previous states and transitions.\n",
        "   - Viterbi decoding guarantees finding the globally optimal sequence of states (tags) that maximizes the likelihood of the observed sequence (words).\n",
        "\n",
        "Comparison:\n",
        "- Greedy decoding is simpler and faster but may not always produce the most accurate results, especially when there are dependencies between distant states in the sequence.\n",
        "- Viterbi decoding is more complex and computationally intensive but guarantees finding the globally optimal sequence of states. It is preferred when accuracy is paramount, or when the model's output will be used for critical tasks like machine translation or speech recognition."
      ],
      "metadata": {
        "id": "phpHO4gAZbCJ"
      }
    },
    {
      "cell_type": "code",
      "source": [],
      "metadata": {
        "id": "318Q_ldeZhdE"
      },
      "execution_count": null,
      "outputs": []
    }
  ],
  "metadata": {
    "colab": {
      "provenance": [],
      "include_colab_link": true
    },
    "kernelspec": {
      "display_name": "Python 3",
      "name": "python3"
    }
  },
  "nbformat": 4,
  "nbformat_minor": 0
}